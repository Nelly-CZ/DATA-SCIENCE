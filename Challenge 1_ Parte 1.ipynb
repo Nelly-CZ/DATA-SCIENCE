{
 "cells": [
  {
   "cell_type": "code",
   "execution_count": 10,
   "id": "39919212-1d43-41bf-b073-4612a3463941",
   "metadata": {
    "tags": []
   },
   "outputs": [
    {
     "name": "stdin",
     "output_type": "stream",
     "text": [
      "Ingrese una temperatura en °Celcius:  25\n"
     ]
    },
    {
     "name": "stdout",
     "output_type": "stream",
     "text": [
      "La temperatura 25.00 °Celsius equivale a 77.00 °Fahrenheit\n"
     ]
    }
   ],
   "source": [
    "#EJERCICIO 1: Conversión de Temperatura\n",
    "#Escribe un programa que solicite al usuario una temperatura en grados Celsius y luego la convierta a grados Fahrenheit. La fórmula de conversión es: Fahrenheit = (Celsius * 9/5) + 32.\n",
    "numero = float(input(\"Ingrese una temperatura en °Celcius: \"))\n",
    "temperatura = (numero*9/5)+32\n",
    "print(f\"La temperatura {numero:.2f} °Celsius equivale a {temperatura:.2f} °Fahrenheit.\")"
   ]
  },
  {
   "cell_type": "code",
   "execution_count": 12,
   "id": "1800ede7-8693-45ad-ab3b-6f36cf1d88a8",
   "metadata": {
    "tags": []
   },
   "outputs": [
    {
     "name": "stdin",
     "output_type": "stream",
     "text": [
      "Ingrese la cantidad de soles:  50\n",
      "Ingrese el tipo de cambio:  3.8\n"
     ]
    },
    {
     "name": "stdout",
     "output_type": "stream",
     "text": [
      "50.00 soles equivalen a 190.00 dólares con el tipo de cambio 3.80\n"
     ]
    }
   ],
   "source": [
    "#EJERCICIO 2:Conversión de moneda\n",
    "#Escribe un programa que realice la conversión entre dos tipos de moneda. El usuario debe ingresar la cantidad en una moneda y el tipo de cambio actual entre esas dos monedas. Luego, el programa debe mostrar el equivalente en la otra moneda.\n",
    "moneda_soles = float(input(\"Ingrese la cantidad de soles: \"))\n",
    "tipo_cambio = float(input(\"Ingrese el tipo de cambio: \"))\n",
    "moneda_dolares = moneda_soles * tipo_cambio\n",
    "print(f\"{moneda_soles:.2f} soles equivalen a {moneda_dolares:.2f} dólares con el tipo de cambio {tipo_cambio:.2f}\")"
   ]
  },
  {
   "cell_type": "code",
   "execution_count": 15,
   "id": "3e8b0594-1057-4255-9408-f484434505d8",
   "metadata": {
    "tags": []
   },
   "outputs": [
    {
     "name": "stdin",
     "output_type": "stream",
     "text": [
      "Ingrese su edad:  65\n"
     ]
    },
    {
     "name": "stdout",
     "output_type": "stream",
     "text": [
      "Usted es un adulto mayor.\n"
     ]
    }
   ],
   "source": [
    "#EJERCICIO 3:Clasificar de acuerdo a la edad\n",
    "# Crea un programa que solicite la edad del usuario y luego clasifique la edad en categorías: \"niño\" (0-12 años), \"adolescente\" (13-19 años), \"adulto joven\" (20-35 años), \"adulto\" (36-60) y \"adulto mayor\" (60 años en adelante). Imprime la categoría correspondiente.\n",
    "edad = int(input(\"Ingrese su edad: \"))\n",
    "\n",
    "if edad <= 12:\n",
    "    categoria = \"niño\"\n",
    "elif edad <= 19:\n",
    "    categoria = \"adolescente\"\n",
    "elif edad <= 35:\n",
    "    categoria = \"adulto joven\"\n",
    "elif edad <= 60:\n",
    "    categoria = \"adulto\"\n",
    "else:\n",
    "    categoria = \"adulto mayor\"\n",
    "\n",
    "print(f\"Usted es un {categoria}.\")"
   ]
  },
  {
   "cell_type": "code",
   "execution_count": 17,
   "id": "724d691f-7940-4a08-bd77-27499471233c",
   "metadata": {
    "tags": []
   },
   "outputs": [
    {
     "name": "stdin",
     "output_type": "stream",
     "text": [
      "Ingrese su peso en kg:  50\n",
      "Ingrese su altura en metros:  1.50\n"
     ]
    },
    {
     "name": "stdout",
     "output_type": "stream",
     "text": [
      "Su IMC es: 22.22 y su condición es: \n",
      "Normal\n"
     ]
    }
   ],
   "source": [
    "#Ejercicio 4: Calculadora de Índice de Masa Corporal (IMC) con Evaluación\n",
    "# Desarrolla un programa que calcule el Índice de Masa Corporal (IMC) de una persona. El usuario debe proporcionar su peso en kilogramos y su altura en metros. La fórmula del IMC es: IMC = peso / (altura * altura). Si el IMC es menor a 18.5, muestra \"Bajo peso\", si está entre 18.5 y 24.9, muestra \"Normal\", y si es mayor o igual a 25, muestra \"Sobrepeso\".\n",
    "peso = float(input(\"Ingrese su peso en kg: \"))\n",
    "altura = float(input(\"Ingrese su altura en metros: \"))\n",
    "\n",
    "imc = peso / (altura ** 2)\n",
    "\n",
    "print(f\"Su IMC es: {imc:.2f} y su condición es: \")\n",
    "\n",
    "if imc < 18.5:\n",
    "    print(\"Bajo peso\")\n",
    "elif imc < 25:\n",
    "    print(\"Normal\")\n",
    "else:\n",
    "    print(\"Sobrepeso\")"
   ]
  },
  {
   "cell_type": "code",
   "execution_count": 18,
   "id": "617e0485-9e9f-441e-a40c-e92efc71ee72",
   "metadata": {
    "tags": []
   },
   "outputs": [
    {
     "name": "stdin",
     "output_type": "stream",
     "text": [
      "Intenta adivinar el número:  50\n"
     ]
    },
    {
     "name": "stdout",
     "output_type": "stream",
     "text": [
      "El número es menor. Intenta nuevamente.\n"
     ]
    },
    {
     "name": "stdin",
     "output_type": "stream",
     "text": [
      "Intenta adivinar el número:  25\n"
     ]
    },
    {
     "name": "stdout",
     "output_type": "stream",
     "text": [
      "El número es menor. Intenta nuevamente.\n"
     ]
    },
    {
     "name": "stdin",
     "output_type": "stream",
     "text": [
      "Intenta adivinar el número:  15\n"
     ]
    },
    {
     "name": "stdout",
     "output_type": "stream",
     "text": [
      "El número es mayor. Intenta nuevamente.\n"
     ]
    },
    {
     "name": "stdin",
     "output_type": "stream",
     "text": [
      "Intenta adivinar el número:  22\n"
     ]
    },
    {
     "name": "stdout",
     "output_type": "stream",
     "text": [
      "El número es mayor. Intenta nuevamente.\n"
     ]
    },
    {
     "name": "stdin",
     "output_type": "stream",
     "text": [
      "Intenta adivinar el número:  24\n"
     ]
    },
    {
     "name": "stdout",
     "output_type": "stream",
     "text": [
      "¡Correcto! Adivinaste el número en 5 intentos.\n"
     ]
    }
   ],
   "source": [
    "#Ejercicio 5: Adivina el Número\n",
    "# Crea un juego en el que el programa \"piense\" en un número entre 1 y 100, y el usuario debe adivinarlo. Después de cada intento del usuario, el programa debe dar una pista diciendo si el número es mayor o menor. El juego debe terminar cuando el usuario adivine el número.\n",
    "import random\n",
    "\n",
    "numero_secreto = random.randint(1, 100)\n",
    "intentos = 0\n",
    "\n",
    "while True:\n",
    "    intentos += 1\n",
    "    intento_usuario = int(input(\"Intenta adivinar el número: \"))\n",
    "    \n",
    "    if intento_usuario == numero_secreto:\n",
    "        print(f\"¡Correcto! Adivinaste el número en {intentos} intentos.\")\n",
    "        break\n",
    "    elif intento_usuario < numero_secreto:\n",
    "        print(\"El número es mayor. Intenta nuevamente.\")\n",
    "    else:\n",
    "        print(\"El número es menor. Intenta nuevamente.\")"
   ]
  },
  {
   "cell_type": "code",
   "execution_count": null,
   "id": "714d9a55-d2f7-4f54-90f8-64c01c6d1526",
   "metadata": {},
   "outputs": [],
   "source": []
  }
 ],
 "metadata": {
  "kernelspec": {
   "display_name": "Python 3 (ipykernel)",
   "language": "python",
   "name": "python3"
  },
  "language_info": {
   "codemirror_mode": {
    "name": "ipython",
    "version": 3
   },
   "file_extension": ".py",
   "mimetype": "text/x-python",
   "name": "python",
   "nbconvert_exporter": "python",
   "pygments_lexer": "ipython3",
   "version": "3.11.4"
  }
 },
 "nbformat": 4,
 "nbformat_minor": 5
}
