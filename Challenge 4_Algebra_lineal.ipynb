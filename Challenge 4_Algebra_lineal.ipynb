{
 "cells": [
  {
   "cell_type": "markdown",
   "id": "f785a015",
   "metadata": {},
   "source": [
    "## Problema 1"
   ]
  },
  {
   "cell_type": "markdown",
   "id": "d8272a24",
   "metadata": {},
   "source": [
    "Crear un Data Frame con columnas Nombre, Edad, Peso, sueldo de 10 personas, y poner en un vector los sueldos de todas la personas"
   ]
  },
  {
   "cell_type": "code",
   "execution_count": 1,
   "id": "2e4f3301",
   "metadata": {
    "tags": []
   },
   "outputs": [],
   "source": [
    "import pandas as pd\n",
    "import numpy as np"
   ]
  },
  {
   "cell_type": "code",
   "execution_count": 3,
   "id": "14bee4c6-30a2-4b5b-bdab-271cbe221de2",
   "metadata": {
    "tags": []
   },
   "outputs": [],
   "source": [
    "data = ({'Nombre':['Luis', 'Juan', 'Mayra', 'Pedro', 'Ana', 'Moises', 'Laura', 'Oto', 'Nuria', 'Dionisio'], \n",
    "                     'Edad':[23,42,40,29,25,30,24,56,44,89], \n",
    "                     'Peso':[35.4,35.6,30.5,25.6,40.5,45.6,41.2,50.6,38.9,60.2], \n",
    "                     'Sueldo':[5000,10000,9000,5500,6000,8000,2500,7000,8500,4500]})"
   ]
  },
  {
   "cell_type": "code",
   "execution_count": 6,
   "id": "66793c4f-4622-428c-8e49-fabb44562e11",
   "metadata": {
    "tags": []
   },
   "outputs": [
    {
     "data": {
      "text/html": [
       "<div>\n",
       "<style scoped>\n",
       "    .dataframe tbody tr th:only-of-type {\n",
       "        vertical-align: middle;\n",
       "    }\n",
       "\n",
       "    .dataframe tbody tr th {\n",
       "        vertical-align: top;\n",
       "    }\n",
       "\n",
       "    .dataframe thead th {\n",
       "        text-align: right;\n",
       "    }\n",
       "</style>\n",
       "<table border=\"1\" class=\"dataframe\">\n",
       "  <thead>\n",
       "    <tr style=\"text-align: right;\">\n",
       "      <th></th>\n",
       "      <th>Nombre</th>\n",
       "      <th>Edad</th>\n",
       "      <th>Peso</th>\n",
       "      <th>Sueldo</th>\n",
       "    </tr>\n",
       "  </thead>\n",
       "  <tbody>\n",
       "    <tr>\n",
       "      <th>0</th>\n",
       "      <td>Luis</td>\n",
       "      <td>23</td>\n",
       "      <td>35.4</td>\n",
       "      <td>5000</td>\n",
       "    </tr>\n",
       "    <tr>\n",
       "      <th>1</th>\n",
       "      <td>Juan</td>\n",
       "      <td>42</td>\n",
       "      <td>35.6</td>\n",
       "      <td>10000</td>\n",
       "    </tr>\n",
       "    <tr>\n",
       "      <th>2</th>\n",
       "      <td>Mayra</td>\n",
       "      <td>40</td>\n",
       "      <td>30.5</td>\n",
       "      <td>9000</td>\n",
       "    </tr>\n",
       "    <tr>\n",
       "      <th>3</th>\n",
       "      <td>Pedro</td>\n",
       "      <td>29</td>\n",
       "      <td>25.6</td>\n",
       "      <td>5500</td>\n",
       "    </tr>\n",
       "    <tr>\n",
       "      <th>4</th>\n",
       "      <td>Ana</td>\n",
       "      <td>25</td>\n",
       "      <td>40.5</td>\n",
       "      <td>6000</td>\n",
       "    </tr>\n",
       "    <tr>\n",
       "      <th>5</th>\n",
       "      <td>Moises</td>\n",
       "      <td>30</td>\n",
       "      <td>45.6</td>\n",
       "      <td>8000</td>\n",
       "    </tr>\n",
       "    <tr>\n",
       "      <th>6</th>\n",
       "      <td>Laura</td>\n",
       "      <td>24</td>\n",
       "      <td>41.2</td>\n",
       "      <td>2500</td>\n",
       "    </tr>\n",
       "    <tr>\n",
       "      <th>7</th>\n",
       "      <td>Oto</td>\n",
       "      <td>56</td>\n",
       "      <td>50.6</td>\n",
       "      <td>7000</td>\n",
       "    </tr>\n",
       "    <tr>\n",
       "      <th>8</th>\n",
       "      <td>Nuria</td>\n",
       "      <td>44</td>\n",
       "      <td>38.9</td>\n",
       "      <td>8500</td>\n",
       "    </tr>\n",
       "    <tr>\n",
       "      <th>9</th>\n",
       "      <td>Dionisio</td>\n",
       "      <td>89</td>\n",
       "      <td>60.2</td>\n",
       "      <td>4500</td>\n",
       "    </tr>\n",
       "  </tbody>\n",
       "</table>\n",
       "</div>"
      ],
      "text/plain": [
       "     Nombre  Edad  Peso  Sueldo\n",
       "0      Luis    23  35.4    5000\n",
       "1      Juan    42  35.6   10000\n",
       "2     Mayra    40  30.5    9000\n",
       "3     Pedro    29  25.6    5500\n",
       "4       Ana    25  40.5    6000\n",
       "5    Moises    30  45.6    8000\n",
       "6     Laura    24  41.2    2500\n",
       "7       Oto    56  50.6    7000\n",
       "8     Nuria    44  38.9    8500\n",
       "9  Dionisio    89  60.2    4500"
      ]
     },
     "execution_count": 6,
     "metadata": {},
     "output_type": "execute_result"
    }
   ],
   "source": [
    "df = pd.DataFrame(data)\n",
    "df"
   ]
  },
  {
   "cell_type": "code",
   "execution_count": 7,
   "id": "96f32d37-b6d6-4727-a49d-a86439ee3f16",
   "metadata": {
    "tags": []
   },
   "outputs": [
    {
     "data": {
      "text/plain": [
       "array([ 5000, 10000,  9000,  5500,  6000,  8000,  2500,  7000,  8500,\n",
       "        4500], dtype=int64)"
      ]
     },
     "execution_count": 7,
     "metadata": {},
     "output_type": "execute_result"
    }
   ],
   "source": [
    "sueldos = df['Sueldo'].to_numpy()\n",
    "sueldos"
   ]
  },
  {
   "cell_type": "markdown",
   "id": "d9a812a6",
   "metadata": {},
   "source": [
    "## Problema 2"
   ]
  },
  {
   "cell_type": "markdown",
   "id": "ccf5d346",
   "metadata": {},
   "source": [
    "Crear una función con parámetros r y h, para hallar el volumen de un cilindro "
   ]
  },
  {
   "cell_type": "code",
   "execution_count": 1,
   "id": "ed4d2a0b",
   "metadata": {},
   "outputs": [],
   "source": [
    "import math"
   ]
  },
  {
   "cell_type": "code",
   "execution_count": 8,
   "id": "1f5c7852-5e86-4d65-bb20-9e89990e84ad",
   "metadata": {
    "tags": []
   },
   "outputs": [],
   "source": [
    "def vol_cilindro(r,h):\n",
    "    if r < 0 or h < 0:\n",
    "        return \"Los valores de r y h no deben ser negativos.\"\n",
    "    volumen = math.pi * r**2 * h\n",
    "    return volumen"
   ]
  },
  {
   "cell_type": "code",
   "execution_count": 6,
   "id": "6ea6244e-5b56-406e-b93b-4837035bad7a",
   "metadata": {
    "tags": []
   },
   "outputs": [
    {
     "data": {
      "text/plain": [
       "'Los valores de r y h no deben ser negativos.'"
      ]
     },
     "execution_count": 6,
     "metadata": {},
     "output_type": "execute_result"
    }
   ],
   "source": [
    "vol_cilindro(-1,1)"
   ]
  },
  {
   "cell_type": "code",
   "execution_count": 9,
   "id": "39902057-19cb-4c49-beb3-ca4c988441ba",
   "metadata": {
    "tags": []
   },
   "outputs": [
    {
     "data": {
      "text/plain": [
       "150.79644737231007"
      ]
     },
     "execution_count": 9,
     "metadata": {},
     "output_type": "execute_result"
    }
   ],
   "source": [
    "vol_cilindro(4,3)"
   ]
  },
  {
   "cell_type": "markdown",
   "id": "53716cda",
   "metadata": {},
   "source": [
    "## Problema 3"
   ]
  },
  {
   "cell_type": "markdown",
   "id": "b8d66085",
   "metadata": {},
   "source": [
    "Crear una función para encontrar los n-ésimos términos de una serie de Fibonacci"
   ]
  },
  {
   "cell_type": "code",
   "execution_count": 20,
   "id": "49c00b8a",
   "metadata": {},
   "outputs": [],
   "source": [
    "def serie_fibonacci(n):\n",
    "    if n <= 0:\n",
    "        return \"N debe ser un número positivo.\"\n",
    "    elif n == 1:\n",
    "        return 0\n",
    "    elif n == 2:\n",
    "        return 1\n",
    "    else:\n",
    "        return serie_fibonacci(n - 2) + serie_fibonacci(n - 1)"
   ]
  },
  {
   "cell_type": "code",
   "execution_count": 21,
   "id": "c697e728-a821-4e59-9d30-2a92b31f8785",
   "metadata": {
    "tags": []
   },
   "outputs": [
    {
     "data": {
      "text/plain": [
       "34"
      ]
     },
     "execution_count": 21,
     "metadata": {},
     "output_type": "execute_result"
    }
   ],
   "source": [
    "serie_fibonacci(10)"
   ]
  },
  {
   "cell_type": "markdown",
   "id": "3ce1d642",
   "metadata": {},
   "source": [
    "## Problema 4"
   ]
  },
  {
   "cell_type": "markdown",
   "id": "97c642bb",
   "metadata": {},
   "source": [
    "Crear dos vectores de orden 10 y aplicar las propiedades mostradas en clase en la sección **Operación básicas de vectores**"
   ]
  },
  {
   "cell_type": "code",
   "execution_count": 22,
   "id": "6a0c7d93",
   "metadata": {},
   "outputs": [],
   "source": [
    "x = np.array([1,2,3,4,5,6,7,8,9,10])\n",
    "y = np.array([10,9,8,7,6,5,4,3,2,1])"
   ]
  },
  {
   "cell_type": "code",
   "execution_count": 29,
   "id": "34ac1146-64bf-4256-a19f-16d0a2511a95",
   "metadata": {
    "tags": []
   },
   "outputs": [
    {
     "name": "stdout",
     "output_type": "stream",
     "text": [
      "Suma de vectores usando el símbolo +: \n",
      " [11 11 11 11 11 11 11 11 11 11]\n",
      "Suma de vectores usando add +: \n",
      " [11 11 11 11 11 11 11 11 11 11]\n"
     ]
    }
   ],
   "source": [
    "#Suma de vectores\n",
    "print('Suma de vectores usando el símbolo +: \\n',x+y)\n",
    "print(f'Suma de vectores usando add: \\n', np.add(x,y))\n"
   ]
  },
  {
   "cell_type": "markdown",
   "id": "f6f5cd58",
   "metadata": {},
   "source": [
    "## Problema 5"
   ]
  },
  {
   "cell_type": "markdown",
   "id": "65a775af",
   "metadata": {},
   "source": [
    "Craer un Data Frame con 4 oraciones parecidas al ejemplo aplicativo de PLN y vectorizar"
   ]
  },
  {
   "cell_type": "code",
   "execution_count": 38,
   "id": "64165bd6",
   "metadata": {},
   "outputs": [],
   "source": [
    "from sklearn.feature_extraction.text import  CountVectorizer\n",
    "from sklearn.feature_extraction.text import  TfidfVectorizer"
   ]
  },
  {
   "cell_type": "code",
   "execution_count": 39,
   "id": "3d14ab52-054e-4b83-aa00-e7379fa644f7",
   "metadata": {
    "tags": []
   },
   "outputs": [
    {
     "data": {
      "text/html": [
       "<div>\n",
       "<style scoped>\n",
       "    .dataframe tbody tr th:only-of-type {\n",
       "        vertical-align: middle;\n",
       "    }\n",
       "\n",
       "    .dataframe tbody tr th {\n",
       "        vertical-align: top;\n",
       "    }\n",
       "\n",
       "    .dataframe thead th {\n",
       "        text-align: right;\n",
       "    }\n",
       "</style>\n",
       "<table border=\"1\" class=\"dataframe\">\n",
       "  <thead>\n",
       "    <tr style=\"text-align: right;\">\n",
       "      <th></th>\n",
       "      <th>Descripción</th>\n",
       "    </tr>\n",
       "  </thead>\n",
       "  <tbody>\n",
       "    <tr>\n",
       "      <th>0</th>\n",
       "      <td>Si Zeus fuera capaz de evitar el mal y quisier...</td>\n",
       "    </tr>\n",
       "    <tr>\n",
       "      <th>1</th>\n",
       "      <td>Si Zeus fuera incapaz de evitar el mal,no serí...</td>\n",
       "    </tr>\n",
       "    <tr>\n",
       "      <th>2</th>\n",
       "      <td>Zeus no evita el mal.</td>\n",
       "    </tr>\n",
       "    <tr>\n",
       "      <th>3</th>\n",
       "      <td>Si Zeus existe,es omnipotente y no es malévolo.</td>\n",
       "    </tr>\n",
       "    <tr>\n",
       "      <th>4</th>\n",
       "      <td>Luego, Zeus no existe.</td>\n",
       "    </tr>\n",
       "  </tbody>\n",
       "</table>\n",
       "</div>"
      ],
      "text/plain": [
       "                                         Descripción\n",
       "0  Si Zeus fuera capaz de evitar el mal y quisier...\n",
       "1  Si Zeus fuera incapaz de evitar el mal,no serí...\n",
       "2                              Zeus no evita el mal.\n",
       "3    Si Zeus existe,es omnipotente y no es malévolo.\n",
       "4                             Luego, Zeus no existe."
      ]
     },
     "execution_count": 39,
     "metadata": {},
     "output_type": "execute_result"
    }
   ],
   "source": [
    "datos = pd.DataFrame({'Descripción':['Si Zeus fuera capaz de evitar el mal y quisiera hacerlo, lo haría.','Si Zeus fuera incapaz de evitar el mal,no sería omnipotente; sino quisiera evitar el mal sería malévolo.', 'Zeus no evita el mal.','Si Zeus existe,es omnipotente y no es malévolo.', 'Luego, Zeus no existe.']})\n",
    "datos"
   ]
  },
  {
   "cell_type": "code",
   "execution_count": 45,
   "id": "6280c704-d762-456c-b1de-2de4ac89669e",
   "metadata": {
    "tags": []
   },
   "outputs": [
    {
     "data": {
      "text/html": [
       "<div>\n",
       "<style scoped>\n",
       "    .dataframe tbody tr th:only-of-type {\n",
       "        vertical-align: middle;\n",
       "    }\n",
       "\n",
       "    .dataframe tbody tr th {\n",
       "        vertical-align: top;\n",
       "    }\n",
       "\n",
       "    .dataframe thead th {\n",
       "        text-align: right;\n",
       "    }\n",
       "</style>\n",
       "<table border=\"1\" class=\"dataframe\">\n",
       "  <thead>\n",
       "    <tr style=\"text-align: right;\">\n",
       "      <th></th>\n",
       "      <th>Descripción</th>\n",
       "    </tr>\n",
       "  </thead>\n",
       "  <tbody>\n",
       "    <tr>\n",
       "      <th>0</th>\n",
       "      <td>Zeus fuera capaz evitar mal quisiera hacerlo h...</td>\n",
       "    </tr>\n",
       "    <tr>\n",
       "      <th>1</th>\n",
       "      <td>Zeus fuera incapaz evitar mal sería omnipotent...</td>\n",
       "    </tr>\n",
       "    <tr>\n",
       "      <th>2</th>\n",
       "      <td>Zeus evita mal</td>\n",
       "    </tr>\n",
       "    <tr>\n",
       "      <th>3</th>\n",
       "      <td>Zeus existe omnipotente malévolo</td>\n",
       "    </tr>\n",
       "    <tr>\n",
       "      <th>4</th>\n",
       "      <td>Luego Zeus existe</td>\n",
       "    </tr>\n",
       "  </tbody>\n",
       "</table>\n",
       "</div>"
      ],
      "text/plain": [
       "                                         Descripción\n",
       "0  Zeus fuera capaz evitar mal quisiera hacerlo h...\n",
       "1  Zeus fuera incapaz evitar mal sería omnipotent...\n",
       "2                                     Zeus evita mal\n",
       "3                   Zeus existe omnipotente malévolo\n",
       "4                                  Luego Zeus existe"
      ]
     },
     "execution_count": 45,
     "metadata": {},
     "output_type": "execute_result"
    }
   ],
   "source": [
    "palabras = pd.DataFrame({'Descripción':['Zeus fuera capaz evitar mal quisiera hacerlo haría', 'Zeus fuera incapaz evitar mal sería omnipotente quisiera evitar mal sería malévolo', 'Zeus evita mal', 'Zeus existe omnipotente malévolo', 'Luego Zeus existe']})\n",
    "palabras"
   ]
  },
  {
   "cell_type": "code",
   "execution_count": 46,
   "id": "52abd3a8-8096-49af-878d-79d3e06a30a1",
   "metadata": {
    "tags": []
   },
   "outputs": [],
   "source": [
    "contador=CountVectorizer()\n",
    "vectorizador=TfidfVectorizer()"
   ]
  },
  {
   "cell_type": "code",
   "execution_count": 47,
   "id": "8fd4c005-b6cf-4fa5-ba99-ada39a7e50c9",
   "metadata": {
    "tags": []
   },
   "outputs": [],
   "source": [
    "cantidades=contador.fit_transform(palabras.Descripción)\n",
    "valores=vectorizador.fit_transform(palabras.Descripción)"
   ]
  },
  {
   "cell_type": "code",
   "execution_count": 48,
   "id": "8bb32722-a516-43f5-9cae-607db70c9df3",
   "metadata": {
    "tags": []
   },
   "outputs": [
    {
     "name": "stdout",
     "output_type": "stream",
     "text": [
      "palabras\n",
      "['capaz' 'evita' 'evitar' 'existe' 'fuera' 'hacerlo' 'haría' 'incapaz'\n",
      " 'luego' 'mal' 'malévolo' 'omnipotente' 'quisiera' 'sería' 'zeus']\n",
      "cantidades\n",
      "  (0, 14)\t1\n",
      "  (0, 4)\t1\n",
      "  (0, 0)\t1\n",
      "  (0, 2)\t1\n",
      "  (0, 9)\t1\n",
      "  (0, 12)\t1\n",
      "  (0, 5)\t1\n",
      "  (0, 6)\t1\n",
      "  (1, 14)\t1\n",
      "  (1, 4)\t1\n",
      "  (1, 2)\t2\n",
      "  (1, 9)\t2\n",
      "  (1, 12)\t1\n",
      "  (1, 7)\t1\n",
      "  (1, 13)\t2\n",
      "  (1, 11)\t1\n",
      "  (1, 10)\t1\n",
      "  (2, 14)\t1\n",
      "  (2, 9)\t1\n",
      "  (2, 1)\t1\n",
      "  (3, 14)\t1\n",
      "  (3, 11)\t1\n",
      "  (3, 10)\t1\n",
      "  (3, 3)\t1\n",
      "  (4, 14)\t1\n",
      "  (4, 3)\t1\n",
      "  (4, 8)\t1\n",
      "valores\n",
      "  (0, 6)\t0.4215126729847383\n",
      "  (0, 5)\t0.4215126729847383\n",
      "  (0, 12)\t0.3400737705044779\n",
      "  (0, 9)\t0.28229194963946314\n",
      "  (0, 2)\t0.3400737705044779\n",
      "  (0, 0)\t0.4215126729847383\n",
      "  (0, 4)\t0.3400737705044779\n",
      "  (0, 14)\t0.20085304715920277\n",
      "  (1, 10)\t0.23071559833612268\n",
      "  (1, 11)\t0.23071559833612268\n",
      "  (1, 13)\t0.5719320746770253\n",
      "  (1, 7)\t0.28596603733851267\n",
      "  (1, 12)\t0.23071559833612268\n",
      "  (1, 9)\t0.3830295760236044\n",
      "  (1, 2)\t0.46143119667224536\n",
      "  (1, 4)\t0.23071559833612268\n",
      "  (1, 14)\t0.1362643490094122\n",
      "  (2, 1)\t0.7725357304970574\n",
      "  (2, 9)\t0.5173761822721217\n",
      "  (2, 14)\t0.3681174148595829\n",
      "  (3, 3)\t0.546454011634009\n",
      "  (3, 10)\t0.546454011634009\n",
      "  (3, 11)\t0.546454011634009\n",
      "  (3, 14)\t0.3227445421804912\n",
      "  (4, 8)\t0.7297183669435993\n",
      "  (4, 3)\t0.5887321837696324\n",
      "  (4, 14)\t0.3477147117091919\n"
     ]
    }
   ],
   "source": [
    "print('palabras')\n",
    "print(vectorizador.get_feature_names_out())\n",
    "print('cantidades')\n",
    "print(cantidades)\n",
    "print('valores')\n",
    "print(valores)"
   ]
  },
  {
   "cell_type": "markdown",
   "id": "bdf4c139",
   "metadata": {},
   "source": [
    "## Problema 6"
   ]
  },
  {
   "cell_type": "markdown",
   "id": "eb133ae3",
   "metadata": {},
   "source": [
    "Crear dos matrices de cualquier orden y aplicar las propiedades de producto de un escalar con un  vector"
   ]
  },
  {
   "cell_type": "code",
   "execution_count": 62,
   "id": "52faaf1f-f5bf-42cf-a248-35a72ed2e3ff",
   "metadata": {
    "tags": []
   },
   "outputs": [],
   "source": [
    "mat_A = np.array([[5,6],[3,2]])\n",
    "mat_B = np.array([[3,4],[5,8]])"
   ]
  },
  {
   "cell_type": "code",
   "execution_count": 72,
   "id": "9c995317",
   "metadata": {},
   "outputs": [
    {
     "name": "stdout",
     "output_type": "stream",
     "text": [
      "Asociativa\n",
      "(Matriz A por Matriz B) por 7: \n",
      " [[105 168]\n",
      " [105 112]] \n",
      " es igual a: matriz A por (matriz B por 7) \n",
      " [[105 168]\n",
      " [105 112]]\n",
      "Distributiva por la izquierda\n",
      "Multipicar (mat_A + mat_B) por 5: \n",
      " [[40 50]\n",
      " [40 50]] \n",
      " es igual a: mat_A * 5 + mat_B * 5 \n",
      " [[40 50]\n",
      " [40 50]]\n",
      "Distributiva por la derecha\n",
      "Multipicar 2 por (mat_A + mat_B): \n",
      " [[16 20]\n",
      " [16 20]] \n",
      " es igual a: 2*mat_A + 2*mat_B \n",
      " [[16 20]\n",
      " [16 20]]\n",
      "Distributiva por la derecha para la suma de vectores\n",
      "Multipicar mat_A por (5+8): \n",
      " [[65 78]\n",
      " [39 26]] \n",
      " es igual a: mat_A * 5 + mat_A * 8 \n",
      " [[65 78]\n",
      " [39 26]]\n"
     ]
    }
   ],
   "source": [
    "print('Asociativa')\n",
    "print('(Matriz A por Matriz B) por 7: \\n', (mat_A * mat_B) * 7, '\\n es igual a: matriz A por (matriz B por 7) \\n', mat_A*(mat_B*7))\n",
    "print('Distributiva por la izquierda')\n",
    "print('Multipicar (mat_A + mat_B) por 5: \\n', (mat_A + mat_B)*5, '\\n es igual a: mat_A * 5 + mat_B * 5 \\n', (mat_A * 5 + mat_B*5))\n",
    "print('Distributiva por la derecha')\n",
    "print('Multipicar 2 por (mat_A + mat_B): \\n', 2*(mat_A + mat_B), '\\n es igual a: 2*mat_A + 2*mat_B \\n', (2*mat_A + 2*mat_B))\n",
    "print('Distributiva por la derecha para la suma de vectores')\n",
    "print('Multipicar mat_A por (5+8): \\n', mat_A*(5 + 8), '\\n es igual a: mat_A * 5 + mat_A * 8 \\n', (5*mat_A + 8*mat_A))"
   ]
  },
  {
   "cell_type": "code",
   "execution_count": 84,
   "id": "99509865-2277-4a13-93cb-976b6f296aa1",
   "metadata": {
    "tags": []
   },
   "outputs": [
    {
     "name": "stdout",
     "output_type": "stream",
     "text": [
      "Usando @:  220\n",
      "Usando dot:  220\n",
      "Producto cruzado usando *:  [10 18 24 28 30 30 28 24 18 10]\n"
     ]
    }
   ],
   "source": [
    "# PRODUCTO ESCALAR O PRODUCTO PUNTO\n",
    "print('Usando @: ',x@y)\n",
    "print('Usando dot: ',np.dot(x,y))\n",
    "#PRODUCTO CRUZADO\n",
    "print('Producto cruzado usando *: ',x*y)"
   ]
  },
  {
   "cell_type": "markdown",
   "id": "b2d0bbff",
   "metadata": {},
   "source": [
    "## Problema 7"
   ]
  },
  {
   "cell_type": "markdown",
   "id": "8bc23c6e",
   "metadata": {},
   "source": [
    "Hallar la norma Euclidiana y de Manhattan de un vector que usted cree conveniente"
   ]
  },
  {
   "cell_type": "code",
   "execution_count": 89,
   "id": "e3c14358",
   "metadata": {},
   "outputs": [
    {
     "name": "stdout",
     "output_type": "stream",
     "text": [
      "Norma euclidiana:  5.0\n",
      "Norma Manhattan:  7.0\n"
     ]
    }
   ],
   "source": [
    "a = np.array([0,4,3])\n",
    "print('Norma euclidiana: ', np.linalg.norm(a,2))\n",
    "print('Norma Manhattan: ', np.linalg.norm(a,1))"
   ]
  },
  {
   "cell_type": "markdown",
   "id": "d63a605d",
   "metadata": {},
   "source": [
    "## Problema 8"
   ]
  },
  {
   "cell_type": "markdown",
   "id": "ddafffc4",
   "metadata": {},
   "source": [
    "Probar si  son ortogonales dos vectores que usted crea conveniente"
   ]
  },
  {
   "cell_type": "code",
   "execution_count": 99,
   "id": "64d7befd",
   "metadata": {},
   "outputs": [
    {
     "data": {
      "text/plain": [
       "array([[0.99624059]])"
      ]
     },
     "execution_count": 99,
     "metadata": {},
     "output_type": "execute_result"
    }
   ],
   "source": [
    "o_1 = np.array([[5],[4]])\n",
    "o_2 = np.array([[3],[2]])\n",
    "\n",
    "cos_theta = (o_1.T@o_2)/(np.linalg.norm(o_1,2) * np.linalg.norm(o_2,2))\n",
    "cos_theta"
   ]
  },
  {
   "cell_type": "code",
   "execution_count": 100,
   "id": "8459f6e7-fb11-4f7b-87c4-fb1a79a51b2f",
   "metadata": {
    "tags": []
   },
   "outputs": [
    {
     "name": "stdout",
     "output_type": "stream",
     "text": [
      "Los vectores no son ortogonales [[4.96974073]]\n"
     ]
    }
   ],
   "source": [
    "cos_inversa = np.arccos(cos_theta)\n",
    "angulo = cos_inversa * ((180)/np.pi)\n",
    "if angulo == 90:\n",
    "    print('Los vectores son ortogonales',angulo)\n",
    "else:\n",
    "    print('Los vectores no son ortogonales',angulo)"
   ]
  },
  {
   "cell_type": "markdown",
   "id": "1d794c89",
   "metadata": {},
   "source": [
    "## Problema 9"
   ]
  },
  {
   "cell_type": "markdown",
   "id": "b8e9a45c",
   "metadata": {},
   "source": [
    "Aplicar las propiedades de la  Multiplicación matriz-matriz para las matrices que usted crea conveniente"
   ]
  },
  {
   "cell_type": "code",
   "execution_count": 6,
   "id": "f8b94fd9",
   "metadata": {},
   "outputs": [],
   "source": [
    "mat1 = np.array([[2,3],[8,2]])\n",
    "mat2 = np.array([[4,5],[7,1]])\n",
    "mat3 = np.array([[6,9],[8,3]])"
   ]
  },
  {
   "cell_type": "code",
   "execution_count": 7,
   "id": "558f6da5-9c65-4ecd-88b5-2be3481384b7",
   "metadata": {},
   "outputs": [
    {
     "name": "stdout",
     "output_type": "stream",
     "text": [
      "Asociativa\n",
      "(A*B)*C: \n",
      " [[ 48 135]\n",
      " [448   6]] \n",
      " es igual a: A(BC) \n",
      " [[ 48 135]\n",
      " [448   6]]\n",
      "Multiplicación por un escalar\n",
      "2*(A*B): \n",
      " [[ 16  30]\n",
      " [112   4]] \n",
      " es igual a: (2*A)*B \n",
      " [[ 16  30]\n",
      " [112   4]]\n",
      "Distributiva\n",
      "A*(B + C): \n",
      " [[ 20  42]\n",
      " [120   8]] \n",
      " es igual a: A*B + A*C \n",
      " [[ 20  42]\n",
      " [120   8]]\n",
      "Transpuesta del producto\n",
      "(A*B)**T: \n",
      " [[ 8 56]\n",
      " [15  2]] \n",
      " es igual a: (B**T)*(A**T) \n",
      " [[ 8 56]\n",
      " [15  2]]\n"
     ]
    }
   ],
   "source": [
    "print('Asociativa')\n",
    "print('(A*B)*C: \\n', (mat1 * mat2) * mat3, '\\n es igual a: A(BC) \\n', mat1*(mat2*mat3))\n",
    "print('Multiplicación por un escalar')\n",
    "print('2*(A*B): \\n', 2*(mat1 * mat2), '\\n es igual a: (2*A)*B \\n', (2*mat1)* mat2)\n",
    "print('Distributiva')\n",
    "print('A*(B + C): \\n', mat1*(mat2 + mat3), '\\n es igual a: A*B + A*C \\n', (mat1*mat2 + mat1*mat3))\n",
    "print('Transpuesta del producto')\n",
    "print('(A*B)**T: \\n', (mat1*mat2).T, '\\n es igual a: (B**T)*(A**T) \\n', (mat2.T)*(mat1.T))"
   ]
  },
  {
   "cell_type": "markdown",
   "id": "c11a87f7",
   "metadata": {},
   "source": [
    "## Problema 10"
   ]
  },
  {
   "cell_type": "markdown",
   "id": "18cd9509",
   "metadata": {},
   "source": [
    "Hallar la inversa de una matriz no singular que usted crea conveniente de orden 10X10"
   ]
  },
  {
   "cell_type": "code",
   "execution_count": 18,
   "id": "820e6add",
   "metadata": {},
   "outputs": [
    {
     "name": "stdout",
     "output_type": "stream",
     "text": [
      "Matriz Inversa: \n",
      " [[ 13.03181688  -8.31139521   3.30906432   4.58010201 -12.02701308\n",
      "  -14.68220663   8.04851028  -2.49979357  -1.71968917   1.82686953]\n",
      " [ -5.55193409   1.57061831  -3.71141329   0.09772841   3.12480185\n",
      "    3.54808224   0.7573672   -0.94605612   2.08543147   1.26957525]\n",
      " [  4.2814675   -2.02324358   0.05718814   1.02896446  -2.75571546\n",
      "   -5.71975539   2.81655981  -0.31009834  -0.26864274   0.26128736]\n",
      " [ -1.48626672  -0.99457403  -0.98705459  -0.32082715   0.86664045\n",
      "    1.7552606    1.01877778  -0.87438621   1.7611228   -0.22347317]\n",
      " [ -5.21236568   3.773465     0.70857825  -2.80160953   3.73589571\n",
      "    7.56354651  -4.1434043    1.06070811   0.12068265  -1.04224424]\n",
      " [ -7.49071887   7.48807174   0.40993174  -4.34557919   9.92109479\n",
      "    9.99701993  -9.73880883   3.54914147  -0.05850385  -2.38907769]\n",
      " [ 12.99320188  -7.87029343   1.8467531    4.29608418 -11.58788648\n",
      "  -14.19549363   8.34342345  -1.78708637  -3.28635847   2.8577673 ]\n",
      " [ -6.36622491   6.22752394   2.16267192  -4.90786287   9.68756551\n",
      "    8.82185053  -9.32685511   4.86465687  -0.7165411   -4.13395478]\n",
      " [  6.78739676  -4.2814429    2.50465106   2.70646354  -6.56601412\n",
      "   -7.61004707   4.68931668  -2.10789131  -0.76631886   0.01524843]\n",
      " [-11.74979848   5.70650187  -5.37036636  -1.18240726   7.94907854\n",
      "   11.95044058  -4.37074915   0.51277464   3.09171774   0.56406817]]\n"
     ]
    }
   ],
   "source": [
    "matriz_A = np.random.rand(10, 10)\n",
    "\n",
    "# Verificar si la matriz es no singular\n",
    "if np.linalg.det(matriz_A) != 0:\n",
    "    # Inversa de la matriz\n",
    "    A_inversa = np.linalg.inv(matriz_A)\n",
    "    \n",
    "    # Mostrar la matriz inversa\n",
    "    print(\"Matriz Inversa: \\n\", A_inversa)\n",
    "else:\n",
    "    print(\"La matriz no es no singular (su determinante es igual a cero). No se puede calcular la inversa.\")"
   ]
  },
  {
   "cell_type": "markdown",
   "id": "50fb9f79",
   "metadata": {},
   "source": [
    "## Problema 11 "
   ]
  },
  {
   "cell_type": "markdown",
   "id": "560080d3",
   "metadata": {},
   "source": [
    "Crear una función que encuentre los n primeros números perfectos "
   ]
  },
  {
   "cell_type": "code",
   "execution_count": 36,
   "id": "7463f7df",
   "metadata": {},
   "outputs": [],
   "source": [
    "def es_numero_perfecto(num):\n",
    "    suma_divisores = sum([i for i in range(1, num) if num % i == 0])\n",
    "    return suma_divisores == num\n",
    "\n",
    "def encontrar_num_perfectos(n):\n",
    "    numeros_perfectos = []\n",
    "    num = 2  # primer número perfecto conocido (6)\n",
    "    \n",
    "    while len(numeros_perfectos) < n:\n",
    "        if es_numero_perfecto(num):\n",
    "            numeros_perfectos.append(num)\n",
    "        num += 1\n",
    "    \n",
    "    return numeros_perfectos"
   ]
  },
  {
   "cell_type": "code",
   "execution_count": 35,
   "id": "0c0eee8a-5740-4770-b4c5-1bcb2e1f575d",
   "metadata": {
    "tags": []
   },
   "outputs": [
    {
     "data": {
      "text/plain": [
       "[6, 28, 496, 8128]"
      ]
     },
     "execution_count": 35,
     "metadata": {},
     "output_type": "execute_result"
    }
   ],
   "source": [
    "encontrar_num_perfectos(4)"
   ]
  }
 ],
 "metadata": {
  "kernelspec": {
   "display_name": "Python 3 (ipykernel)",
   "language": "python",
   "name": "python3"
  },
  "language_info": {
   "codemirror_mode": {
    "name": "ipython",
    "version": 3
   },
   "file_extension": ".py",
   "mimetype": "text/x-python",
   "name": "python",
   "nbconvert_exporter": "python",
   "pygments_lexer": "ipython3",
   "version": "3.11.4"
  }
 },
 "nbformat": 4,
 "nbformat_minor": 5
}
