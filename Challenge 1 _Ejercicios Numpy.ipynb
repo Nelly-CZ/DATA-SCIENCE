{
 "cells": [
  {
   "cell_type": "code",
   "execution_count": 7,
   "id": "ef477627",
   "metadata": {
    "tags": []
   },
   "outputs": [],
   "source": [
    "import numpy as np\n",
    "import pandas as pd"
   ]
  },
  {
   "cell_type": "markdown",
   "id": "731239be",
   "metadata": {},
   "source": [
    "#### 1) Crear una matriz de una solo dimensión con numpy utilizando tupla"
   ]
  },
  {
   "cell_type": "code",
   "execution_count": 12,
   "id": "798a6e4e",
   "metadata": {
    "tags": []
   },
   "outputs": [
    {
     "data": {
      "text/plain": [
       "array([3, 7, 9])"
      ]
     },
     "execution_count": 12,
     "metadata": {},
     "output_type": "execute_result"
    }
   ],
   "source": [
    "vector=np.array((3,7,9))\n",
    "vector"
   ]
  },
  {
   "cell_type": "markdown",
   "id": "97232bbb",
   "metadata": {},
   "source": [
    "#### 2) Crear una matriz de 2-D  con numpy"
   ]
  },
  {
   "cell_type": "code",
   "execution_count": 15,
   "id": "8a6419f7",
   "metadata": {},
   "outputs": [
    {
     "data": {
      "text/plain": [
       "array([[ 5,  2,  6],\n",
       "       [12,  1,  3]])"
      ]
     },
     "execution_count": 15,
     "metadata": {},
     "output_type": "execute_result"
    }
   ],
   "source": [
    "matriz = np.array([[5, 2, 6],[12, 1, 3]])\n",
    "matriz"
   ]
  },
  {
   "cell_type": "markdown",
   "id": "e6f60142",
   "metadata": {},
   "source": [
    "#### 3) Acceder a elementos de un arreglo 2-D en Numpy"
   ]
  },
  {
   "cell_type": "code",
   "execution_count": 17,
   "id": "99c1e1a0",
   "metadata": {},
   "outputs": [
    {
     "data": {
      "text/plain": [
       "2"
      ]
     },
     "execution_count": 17,
     "metadata": {},
     "output_type": "execute_result"
    }
   ],
   "source": [
    "#obtener el elemento de la fila 1 columna 2\n",
    "matriz[0,1]"
   ]
  },
  {
   "cell_type": "code",
   "execution_count": 18,
   "id": "0a478e76-12cd-435f-8d36-c9c6c7b6c268",
   "metadata": {
    "tags": []
   },
   "outputs": [
    {
     "data": {
      "text/plain": [
       "array([[12,  1,  3]])"
      ]
     },
     "execution_count": 18,
     "metadata": {},
     "output_type": "execute_result"
    }
   ],
   "source": [
    "#encontrando toda la fila\n",
    "matriz[1:]"
   ]
  },
  {
   "cell_type": "markdown",
   "id": "43b64822",
   "metadata": {},
   "source": [
    "#### 4) Obtener la forma de un arreglo Numpy "
   ]
  },
  {
   "cell_type": "code",
   "execution_count": 19,
   "id": "c1df9bb3",
   "metadata": {},
   "outputs": [
    {
     "data": {
      "text/plain": [
       "(2, 3)"
      ]
     },
     "execution_count": 19,
     "metadata": {},
     "output_type": "execute_result"
    }
   ],
   "source": [
    "matriz.shape"
   ]
  },
  {
   "cell_type": "markdown",
   "id": "56406dee",
   "metadata": {},
   "source": [
    "#### 5)  Crear una matriz de orden 2x6 con numpy y mostrar el elemento de la fila 2 y columna 3"
   ]
  },
  {
   "cell_type": "code",
   "execution_count": 26,
   "id": "8afdb22b-fdbe-4e09-91db-973ed6d52def",
   "metadata": {
    "tags": []
   },
   "outputs": [],
   "source": [
    "import random"
   ]
  },
  {
   "cell_type": "code",
   "execution_count": 35,
   "id": "23c192b1",
   "metadata": {},
   "outputs": [
    {
     "data": {
      "text/plain": [
       "array([[0.34165149, 0.10240034, 0.90922253, 0.48952742, 0.91512998,\n",
       "        0.4178611 ],\n",
       "       [0.8738461 , 0.34513323, 0.04690985, 0.36376681, 0.67086165,\n",
       "        0.41281436]])"
      ]
     },
     "execution_count": 35,
     "metadata": {},
     "output_type": "execute_result"
    }
   ],
   "source": [
    "mat1=np.random.random((2,6))\n",
    "mat1"
   ]
  },
  {
   "cell_type": "code",
   "execution_count": 36,
   "id": "ef304ee0-cda7-4352-9379-a4c0638b375d",
   "metadata": {
    "tags": []
   },
   "outputs": [
    {
     "data": {
      "text/plain": [
       "0.04690985420427851"
      ]
     },
     "execution_count": 36,
     "metadata": {},
     "output_type": "execute_result"
    }
   ],
   "source": [
    "mat1[1,2]"
   ]
  },
  {
   "cell_type": "code",
   "execution_count": 37,
   "id": "30943af0-c80a-4c32-ae2a-c012e0a382cc",
   "metadata": {
    "tags": []
   },
   "outputs": [
    {
     "data": {
      "text/plain": [
       "array([[ 1,  2,  3,  4,  5,  6],\n",
       "       [ 7,  8,  9, 10, 11, 12]])"
      ]
     },
     "execution_count": 37,
     "metadata": {},
     "output_type": "execute_result"
    }
   ],
   "source": [
    "mat2 = np.array([[1, 2, 3, 4, 5, 6],\n",
    "                   [7, 8, 9, 10, 11, 12]])\n",
    "mat2"
   ]
  },
  {
   "cell_type": "code",
   "execution_count": 39,
   "id": "ea8d5481-14a7-48cf-beb6-5fb216dfa210",
   "metadata": {
    "tags": []
   },
   "outputs": [
    {
     "data": {
      "text/plain": [
       "9"
      ]
     },
     "execution_count": 39,
     "metadata": {},
     "output_type": "execute_result"
    }
   ],
   "source": [
    "mat2[1,2]"
   ]
  },
  {
   "cell_type": "markdown",
   "id": "32dff360-887c-492d-b7c4-fd28b84d4f61",
   "metadata": {},
   "source": [
    "#### 6)  Mostrar mediante un ejemplo las diferencias entre una tupla y una lista"
   ]
  },
  {
   "cell_type": "code",
   "execution_count": 2,
   "id": "cc857285",
   "metadata": {},
   "outputs": [
    {
     "data": {
      "text/plain": [
       "['Esta', 'es', 1, 'lista']"
      ]
     },
     "execution_count": 2,
     "metadata": {},
     "output_type": "execute_result"
    }
   ],
   "source": [
    "lista = ['Esta', 'es', 1, 'lista']\n",
    "lista"
   ]
  },
  {
   "cell_type": "code",
   "execution_count": 5,
   "id": "387b2f08-86b9-479b-b6c6-0ba7240bcc68",
   "metadata": {
    "tags": []
   },
   "outputs": [
    {
     "data": {
      "text/plain": [
       "(89766, 'Alicia', 'Julio', 1988)"
      ]
     },
     "execution_count": 5,
     "metadata": {},
     "output_type": "execute_result"
    }
   ],
   "source": [
    "tupla = (89766, 'Alicia', 'Julio', 1988)\n",
    "tupla"
   ]
  },
  {
   "cell_type": "markdown",
   "id": "f618e1ed",
   "metadata": {
    "tags": []
   },
   "source": [
    "7) Crear dos matrices, una de 2x2 y la otra 3x2, reemplazar el elemento de la fila 1 y columna 2 de la primera matriz con el elemento de la fila 2 y columna 1 de la segunda matriz"
   ]
  },
  {
   "cell_type": "code",
   "execution_count": 29,
   "id": "d930bf86",
   "metadata": {},
   "outputs": [
    {
     "name": "stdout",
     "output_type": "stream",
     "text": [
      "matriz1: \n",
      " [[2 4]\n",
      " [5 3]]\n",
      "matriz2: \n",
      " [[5 0]\n",
      " [9 1]\n",
      " [6 8]]\n"
     ]
    }
   ],
   "source": [
    "matriz1 = np.array([[2,4],[5,3]])\n",
    "print('matriz1: \\n', matriz1)\n",
    "matriz2 = np.array([[5,0],[9,1],[6,8]])\n",
    "print('matriz2: \\n',matriz2)"
   ]
  },
  {
   "cell_type": "code",
   "execution_count": 20,
   "id": "56c26729-760e-486b-a5ea-2d50d36d4ad4",
   "metadata": {
    "tags": []
   },
   "outputs": [],
   "source": [
    "matriz1[0,1]=matriz2[1,0]"
   ]
  },
  {
   "cell_type": "code",
   "execution_count": 21,
   "id": "548fbbce-36f7-4e53-8eba-6a64a8b617ef",
   "metadata": {
    "tags": []
   },
   "outputs": [
    {
     "data": {
      "text/plain": [
       "array([[2, 9],\n",
       "       [5, 3]])"
      ]
     },
     "execution_count": 21,
     "metadata": {},
     "output_type": "execute_result"
    }
   ],
   "source": [
    "matriz1"
   ]
  },
  {
   "cell_type": "markdown",
   "id": "d69d8386",
   "metadata": {},
   "source": [
    "#### 8) Mover dos elementos de una matriz a otra del ejercicio anterior"
   ]
  },
  {
   "cell_type": "code",
   "execution_count": 33,
   "id": "7a9a3d06",
   "metadata": {},
   "outputs": [
    {
     "data": {
      "text/plain": [
       "array([[5, 0],\n",
       "       [5, 3]])"
      ]
     },
     "execution_count": 33,
     "metadata": {},
     "output_type": "execute_result"
    }
   ],
   "source": [
    "#moveremos los 2 valores de la fila 1 de la matriz2 hacia la primera fila de la matriz 1\n",
    "matriz1[:1]=matriz2[:1]\n",
    "matriz1"
   ]
  },
  {
   "cell_type": "markdown",
   "id": "7b4b4b4d",
   "metadata": {},
   "source": [
    "#### 9) Crear una matriz de 4x4 de tipo compleja y luego reemplazar el elemento de la fila 2 y columna 3 por un valor entero"
   ]
  },
  {
   "cell_type": "code",
   "execution_count": 41,
   "id": "3ee1573e",
   "metadata": {},
   "outputs": [
    {
     "data": {
      "text/plain": [
       "array([[ 3.+0.j,  2.+0.j, 15.+0.j,  6.+0.j],\n",
       "       [ 4.+0.j, 13.+0.j,  2.+0.j,  6.+0.j],\n",
       "       [10.+0.j,  6.+0.j, 19.+0.j,  8.+0.j],\n",
       "       [ 1.+0.j, 30.+0.j,  2.+0.j, 16.+0.j]])"
      ]
     },
     "execution_count": 41,
     "metadata": {},
     "output_type": "execute_result"
    }
   ],
   "source": [
    "matrizC=np.array([[3,2,15,6],[4,13,2,6],[10,6,19,8],[1,30,2,16]],dtype=complex)\n",
    "matrizC"
   ]
  },
  {
   "cell_type": "code",
   "execution_count": 44,
   "id": "ce3aeea4-6faa-4a1b-bc89-39aeb070c744",
   "metadata": {
    "tags": []
   },
   "outputs": [
    {
     "data": {
      "text/plain": [
       "array([[ 3.+0.j,  2.+0.j, 15.+0.j,  6.+0.j],\n",
       "       [ 4.+0.j, 13.+0.j, 50.+0.j,  6.+0.j],\n",
       "       [10.+0.j,  6.+0.j, 19.+0.j,  8.+0.j],\n",
       "       [ 1.+0.j, 30.+0.j,  2.+0.j, 16.+0.j]])"
      ]
     },
     "execution_count": 44,
     "metadata": {},
     "output_type": "execute_result"
    }
   ],
   "source": [
    "matrizC[1,2]= 50\n",
    "matrizC"
   ]
  },
  {
   "cell_type": "markdown",
   "id": "5b9a49a9",
   "metadata": {},
   "source": [
    "#### 10) hacer un ejemplo donde se muestre claramente la eficiencia de un array frente a un bucle"
   ]
  },
  {
   "cell_type": "code",
   "execution_count": 45,
   "id": "6d720e08",
   "metadata": {},
   "outputs": [],
   "source": [
    "import time"
   ]
  },
  {
   "cell_type": "code",
   "execution_count": 56,
   "id": "7f9c34df-9560-4f0a-8191-bb2bf3214b88",
   "metadata": {
    "tags": []
   },
   "outputs": [
    {
     "name": "stdout",
     "output_type": "stream",
     "text": [
      "[0.7008307  0.86370911 0.49423655 ... 0.47823616 0.64605573 0.24619411]\n"
     ]
    }
   ],
   "source": [
    "# Sumaremos una lista de números de uno en uno\n",
    "# Crear un array grande de números\n",
    "num_elementos = 1000000\n",
    "array = np.random.rand(num_elementos)\n",
    "print(array)"
   ]
  },
  {
   "cell_type": "code",
   "execution_count": 58,
   "id": "54d007d8-677e-4ee7-8a98-f511d4177a76",
   "metadata": {
    "tags": []
   },
   "outputs": [],
   "source": [
    "# Medir el tiempo usando un bucle\n",
    "inicio_bucle = time.time()\n",
    "suma_bucle = 0\n",
    "for num in array:\n",
    "    suma_bucle += num\n",
    "fin_bucle = time.time()\n",
    "# Calcular los tiempos\n",
    "tiempo_bucle = fin_bucle - inicio_bucle"
   ]
  },
  {
   "cell_type": "code",
   "execution_count": 59,
   "id": "576f646c-f01e-4a44-bd92-98166d211cab",
   "metadata": {
    "tags": []
   },
   "outputs": [],
   "source": [
    "# Medir el tiempo usando la función de suma de NumPy\n",
    "inicio_numpy = time.time()\n",
    "suma_numpy = np.sum(array)\n",
    "fin_numpy = time.time()\n",
    "# Calcular los tiempos\n",
    "tiempo_numpy = fin_numpy - inicio_numpy"
   ]
  },
  {
   "cell_type": "code",
   "execution_count": 60,
   "id": "941a6e79-edaa-4e26-9dc9-88a5ba25f9fd",
   "metadata": {
    "tags": []
   },
   "outputs": [
    {
     "name": "stdout",
     "output_type": "stream",
     "text": [
      "Suma usando bucle: 500110.272658317\n",
      "Tiempo usando bucle: 0.4567594528198242 segundos\n",
      "Suma usando NumPy: 500110.27265832014\n",
      "Tiempo usando NumPy: 0.0029973983764648438 segundos\n"
     ]
    }
   ],
   "source": [
    "# Mostrar los resultados\n",
    "print(f\"Suma usando bucle: {suma_bucle}\")\n",
    "print(f\"Tiempo usando bucle: {tiempo_bucle} segundos\")\n",
    "\n",
    "print(f\"Suma usando NumPy: {suma_numpy}\")\n",
    "print(f\"Tiempo usando NumPy: {tiempo_numpy} segundos\")\n"
   ]
  },
  {
   "cell_type": "code",
   "execution_count": null,
   "id": "3ee60206-848c-4a16-85e1-97d6cdb52883",
   "metadata": {},
   "outputs": [],
   "source": []
  }
 ],
 "metadata": {
  "kernelspec": {
   "display_name": "Python 3 (ipykernel)",
   "language": "python",
   "name": "python3"
  },
  "language_info": {
   "codemirror_mode": {
    "name": "ipython",
    "version": 3
   },
   "file_extension": ".py",
   "mimetype": "text/x-python",
   "name": "python",
   "nbconvert_exporter": "python",
   "pygments_lexer": "ipython3",
   "version": "3.11.4"
  }
 },
 "nbformat": 4,
 "nbformat_minor": 5
}
